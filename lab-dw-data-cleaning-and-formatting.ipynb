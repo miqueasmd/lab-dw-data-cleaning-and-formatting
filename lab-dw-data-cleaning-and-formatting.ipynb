{
 "cells": [
  {
   "cell_type": "markdown",
   "id": "25d7736c-ba17-4aff-b6bb-66eba20fbf4e",
   "metadata": {
    "id": "25d7736c-ba17-4aff-b6bb-66eba20fbf4e"
   },
   "source": [
    "# Lab | Data Cleaning and Formatting"
   ]
  },
  {
   "cell_type": "markdown",
   "id": "d1973e9e-8be6-4039-b70e-d73ee0d94c99",
   "metadata": {
    "id": "d1973e9e-8be6-4039-b70e-d73ee0d94c99"
   },
   "source": [
    "In this lab, we will be working with the customer data from an insurance company, which can be found in the CSV file located at the following link: https://raw.githubusercontent.com/data-bootcamp-v4/data/main/file1.csv\n"
   ]
  },
  {
   "cell_type": "markdown",
   "id": "31b8a9e7-7db9-4604-991b-ef6771603e57",
   "metadata": {
    "id": "31b8a9e7-7db9-4604-991b-ef6771603e57"
   },
   "source": [
    "# Challenge 1: Data Cleaning and Formatting"
   ]
  },
  {
   "cell_type": "markdown",
   "id": "81553f19-9f2c-484b-8940-520aff884022",
   "metadata": {
    "id": "81553f19-9f2c-484b-8940-520aff884022"
   },
   "source": [
    "## Exercise 1: Cleaning Column Names"
   ]
  },
  {
   "cell_type": "markdown",
   "id": "34a929f4-1be4-4fa8-adda-42ffd920be90",
   "metadata": {
    "id": "34a929f4-1be4-4fa8-adda-42ffd920be90"
   },
   "source": [
    "To ensure consistency and ease of use, standardize the column names of the dataframe. Start by taking a first look at the dataframe and identifying any column names that need to be modified. Use appropriate naming conventions and make sure that column names are descriptive and informative.\n",
    "\n",
    "*Hint*:\n",
    "- *Column names should be in lower case*\n",
    "- *White spaces in column names should be replaced by `_`*\n",
    "- *`st` could be replaced for `state`*"
   ]
  },
  {
   "cell_type": "code",
   "execution_count": 1,
   "id": "5810735c-8056-4442-bbf2-dda38d3e284a",
   "metadata": {
    "id": "5810735c-8056-4442-bbf2-dda38d3e284a"
   },
   "outputs": [
    {
     "name": "stdout",
     "output_type": "stream",
     "text": [
      "  customer       state gender             education customer_lifetime_value  \\\n",
      "0  RB50392  Washington    NaN                Master                     NaN   \n",
      "1  QZ44356     Arizona      F              Bachelor              697953.59%   \n",
      "2  AI49188      Nevada      F              Bachelor             1288743.17%   \n",
      "3  WW63253  California      M              Bachelor              764586.18%   \n",
      "4  GA49547  Washington      M  High School or Below              536307.65%   \n",
      "\n",
      "    income  monthly_premium_auto number_of_open_complaints     policy_type  \\\n",
      "0      0.0                1000.0                    1/0/00   Personal Auto   \n",
      "1      0.0                  94.0                    1/0/00   Personal Auto   \n",
      "2  48767.0                 108.0                    1/0/00   Personal Auto   \n",
      "3      0.0                 106.0                    1/0/00  Corporate Auto   \n",
      "4  36357.0                  68.0                    1/0/00   Personal Auto   \n",
      "\n",
      "   vehicle_class  total_claim_amount  \n",
      "0  Four-Door Car            2.704934  \n",
      "1  Four-Door Car         1131.464935  \n",
      "2   Two-Door Car          566.472247  \n",
      "3            SUV          529.881344  \n",
      "4  Four-Door Car           17.269323  \n",
      "Index(['customer', 'state', 'gender', 'education', 'customer_lifetime_value',\n",
      "       'income', 'monthly_premium_auto', 'number_of_open_complaints',\n",
      "       'policy_type', 'vehicle_class', 'total_claim_amount'],\n",
      "      dtype='object')\n"
     ]
    }
   ],
   "source": [
    "import pandas as pd\n",
    "\n",
    "# Load the CSV file into a pandas DataFrame\n",
    "url = \"https://raw.githubusercontent.com/data-bootcamp-v4/data/main/file1.csv\"\n",
    "df = pd.read_csv(url)\n",
    "\n",
    "# Clean and format the column names\n",
    "df.columns = df.columns.str.lower().str.replace(' ', '_').str.replace('st', 'state').str.replace('custateomer', 'customer')\n",
    "\n",
    "# Verify the changes\n",
    "print(df.head())\n",
    "print(df.columns)"
   ]
  },
  {
   "cell_type": "markdown",
   "id": "9cb501ec-36ff-4589-b872-6252bb150316",
   "metadata": {
    "id": "9cb501ec-36ff-4589-b872-6252bb150316"
   },
   "source": [
    "## Exercise 2: Cleaning invalid Values"
   ]
  },
  {
   "cell_type": "markdown",
   "id": "771fdcf3-8e20-4b06-9c24-3a93ba2b0909",
   "metadata": {
    "id": "771fdcf3-8e20-4b06-9c24-3a93ba2b0909"
   },
   "source": [
    "The dataset contains columns with inconsistent and incorrect values that could affect the accuracy of our analysis. Therefore, we need to clean these columns to ensure that they only contain valid data.\n",
    "\n",
    "Note that this exercise will focus only on cleaning inconsistent values and will not involve handling null values (NaN or None).\n",
    "\n",
    "*Hint*:\n",
    "- *Gender column contains various inconsistent values such as \"F\", \"M\", \"Femal\", \"Male\", \"female\", which need to be standardized, for example, to \"M\" and \"F\".*\n",
    "- *State abbreviations be can replaced with its full name, for example \"AZ\": \"Arizona\", \"Cali\": \"California\", \"WA\": \"Washington\"*\n",
    "- *In education, \"Bachelors\" could be replaced by \"Bachelor\"*\n",
    "- *In Customer Lifetime Value, delete the `%` character*\n",
    "- *In vehicle class, \"Sports Car\", \"Luxury SUV\" and \"Luxury Car\" could be replaced by \"Luxury\"*"
   ]
  },
  {
   "cell_type": "code",
   "execution_count": 2,
   "id": "3f8ee5cb-50ab-48af-8a9f-9a389804033c",
   "metadata": {
    "id": "3f8ee5cb-50ab-48af-8a9f-9a389804033c"
   },
   "outputs": [
    {
     "name": "stdout",
     "output_type": "stream",
     "text": [
      "  customer       state gender             education  customer_lifetime_value  \\\n",
      "0  RB50392  Washington    NaN                Master                      NaN   \n",
      "1  QZ44356     Arizona      F              Bachelor                6979.5359   \n",
      "2  AI49188      Nevada      F              Bachelor               12887.4317   \n",
      "3  WW63253  California      M              Bachelor                7645.8618   \n",
      "4  GA49547  Washington      M  High School or Below                5363.0765   \n",
      "\n",
      "    income  monthly_premium_auto number_of_open_complaints     policy_type  \\\n",
      "0      0.0                1000.0                    1/0/00   Personal Auto   \n",
      "1      0.0                  94.0                    1/0/00   Personal Auto   \n",
      "2  48767.0                 108.0                    1/0/00   Personal Auto   \n",
      "3      0.0                 106.0                    1/0/00  Corporate Auto   \n",
      "4  36357.0                  68.0                    1/0/00   Personal Auto   \n",
      "\n",
      "   vehicle_class  total_claim_amount  \n",
      "0  Four-Door Car            2.704934  \n",
      "1  Four-Door Car         1131.464935  \n",
      "2   Two-Door Car          566.472247  \n",
      "3            SUV          529.881344  \n",
      "4  Four-Door Car           17.269323  \n",
      "customer                      object\n",
      "state                         object\n",
      "gender                        object\n",
      "education                     object\n",
      "customer_lifetime_value      float64\n",
      "income                       float64\n",
      "monthly_premium_auto         float64\n",
      "number_of_open_complaints     object\n",
      "policy_type                   object\n",
      "vehicle_class                 object\n",
      "total_claim_amount           float64\n",
      "dtype: object\n"
     ]
    }
   ],
   "source": [
    "# Standardize the gender column\n",
    "df['gender'] = df['gender'].replace({\n",
    "    'Femal': 'F', 'female': 'F', 'Female': 'F',\n",
    "    'Male': 'M', 'male': 'M'\n",
    "})\n",
    "\n",
    "# Replace state abbreviations with full names\n",
    "df['state'] = df['state'].replace({\n",
    "    'AZ': 'Arizona', 'Cali': 'California', 'WA': 'Washington'\n",
    "})\n",
    "\n",
    "# Standardize the education column\n",
    "df['education'] = df['education'].replace('Bachelors', 'Bachelor')\n",
    "\n",
    "# Remove the percentage sign from 'custateomer_lifetime_value' and convert to numeric\n",
    "df['customer_lifetime_value'] = df['customer_lifetime_value'].str.rstrip('%').astype('float') / 100\n",
    "\n",
    "# Standardize the vehicle class column\n",
    "df['vehicle_class'] = df['vehicle_class'].replace({\n",
    "    'Sports Car': 'Luxury', 'Luxury SUV': 'Luxury', 'Luxury Car': 'Luxury'\n",
    "})\n",
    "\n",
    "# Verify the changes\n",
    "print(df.head())\n",
    "print(df.dtypes)"
   ]
  },
  {
   "cell_type": "markdown",
   "id": "85ff78ce-0174-4890-9db3-8048b7d7d2d0",
   "metadata": {
    "id": "85ff78ce-0174-4890-9db3-8048b7d7d2d0"
   },
   "source": [
    "## Exercise 3: Formatting data types"
   ]
  },
  {
   "cell_type": "markdown",
   "id": "b91c2cf8-79a2-4baf-9f65-ff2fb22270bd",
   "metadata": {
    "id": "b91c2cf8-79a2-4baf-9f65-ff2fb22270bd"
   },
   "source": [
    "The data types of many columns in the dataset appear to be incorrect. This could impact the accuracy of our analysis. To ensure accurate analysis, we need to correct the data types of these columns. Please update the data types of the columns as appropriate."
   ]
  },
  {
   "cell_type": "markdown",
   "id": "43e5d853-ff9e-43b2-9d92-aef2f78764f3",
   "metadata": {
    "id": "43e5d853-ff9e-43b2-9d92-aef2f78764f3"
   },
   "source": [
    "It is important to note that this exercise does not involve handling null values (NaN or None)."
   ]
  },
  {
   "cell_type": "markdown",
   "id": "329ca691-9196-4419-8969-3596746237a1",
   "metadata": {
    "id": "329ca691-9196-4419-8969-3596746237a1"
   },
   "source": [
    "*Hint*:\n",
    "- *Customer lifetime value should be numeric*\n",
    "- *Number of open complaints has an incorrect format. Look at the different values it takes with `unique()` and take the middle value. As an example, 1/5/00 should be 5. Number of open complaints is a string - remember you can use `split()` to deal with it and take the number you need. Finally, since it should be numeric, cast the column to be in its proper type.*"
   ]
  },
  {
   "cell_type": "code",
   "execution_count": 3,
   "id": "eb8f5991-73e9-405f-bf1c-6b7c589379a9",
   "metadata": {
    "id": "eb8f5991-73e9-405f-bf1c-6b7c589379a9"
   },
   "outputs": [
    {
     "name": "stdout",
     "output_type": "stream",
     "text": [
      "  customer       state gender             education  customer_lifetime_value  \\\n",
      "0  RB50392  Washington    NaN                Master                      NaN   \n",
      "1  QZ44356     Arizona      F              Bachelor                6979.5359   \n",
      "2  AI49188      Nevada      F              Bachelor               12887.4317   \n",
      "3  WW63253  California      M              Bachelor                7645.8618   \n",
      "4  GA49547  Washington      M  High School or Below                5363.0765   \n",
      "\n",
      "    income  monthly_premium_auto  number_of_open_complaints     policy_type  \\\n",
      "0      0.0                1000.0                        0.0   Personal Auto   \n",
      "1      0.0                  94.0                        0.0   Personal Auto   \n",
      "2  48767.0                 108.0                        0.0   Personal Auto   \n",
      "3      0.0                 106.0                        0.0  Corporate Auto   \n",
      "4  36357.0                  68.0                        0.0   Personal Auto   \n",
      "\n",
      "   vehicle_class  total_claim_amount  \n",
      "0  Four-Door Car            2.704934  \n",
      "1  Four-Door Car         1131.464935  \n",
      "2   Two-Door Car          566.472247  \n",
      "3            SUV          529.881344  \n",
      "4  Four-Door Car           17.269323  \n",
      "customer                      object\n",
      "state                         object\n",
      "gender                        object\n",
      "education                     object\n",
      "customer_lifetime_value      float64\n",
      "income                       float64\n",
      "monthly_premium_auto         float64\n",
      "number_of_open_complaints    float64\n",
      "policy_type                   object\n",
      "vehicle_class                 object\n",
      "total_claim_amount           float64\n",
      "dtype: object\n"
     ]
    }
   ],
   "source": [
    "# Clean the 'number_of_open_complaints' column\n",
    "df['number_of_open_complaints'] = df['number_of_open_complaints'].apply(lambda x: x.split('/')[1] if isinstance(x, str) else x)\n",
    "df['number_of_open_complaints'] = pd.to_numeric(df['number_of_open_complaints'], errors='coerce')\n",
    "\n",
    "# Verify the changes\n",
    "print(df.head())\n",
    "print(df.dtypes)"
   ]
  },
  {
   "cell_type": "markdown",
   "id": "14c52e28-2d0c-4dd2-8bd5-3476e34fadc1",
   "metadata": {
    "id": "14c52e28-2d0c-4dd2-8bd5-3476e34fadc1"
   },
   "source": [
    "## Exercise 4: Dealing with Null values"
   ]
  },
  {
   "cell_type": "markdown",
   "id": "34b9a20f-7d32-4417-975e-1b4dfb0e16cd",
   "metadata": {
    "id": "34b9a20f-7d32-4417-975e-1b4dfb0e16cd"
   },
   "source": [
    "Identify any columns with null or missing values. Identify how many null values each column has. You can use the `isnull()` function in pandas to find columns with null values.\n",
    "\n",
    "Decide on a strategy for handling the null values. There are several options, including:\n",
    "\n",
    "- Drop the rows or columns with null values\n",
    "- Fill the null values with a specific value (such as the column mean or median for numerical variables, and mode for categorical variables)\n",
    "- Fill the null values with the previous or next value in the column\n",
    "- Fill the null values based on a more complex algorithm or model (note: we haven't covered this yet)\n",
    "\n",
    "Implement your chosen strategy to handle the null values. You can use the `fillna()` function in pandas to fill null values or `dropna()` function to drop null values.\n",
    "\n",
    "Verify that your strategy has successfully handled the null values. You can use the `isnull()` function again to check if there are still null values in the dataset.\n",
    "\n",
    "Remember to document your process and explain your reasoning for choosing a particular strategy for handling null values.\n",
    "\n",
    "After formatting data types, as a last step, convert all the numeric variables to integers."
   ]
  },
  {
   "cell_type": "code",
   "execution_count": 4,
   "id": "f184fc35-7831-4836-a0a5-e7f99e01b40e",
   "metadata": {
    "id": "f184fc35-7831-4836-a0a5-e7f99e01b40e"
   },
   "outputs": [
    {
     "name": "stdout",
     "output_type": "stream",
     "text": [
      "Null values in each column:\n",
      " customer                     2937\n",
      "state                        2937\n",
      "gender                       3054\n",
      "education                    2937\n",
      "customer_lifetime_value      2940\n",
      "income                       2937\n",
      "monthly_premium_auto         2937\n",
      "number_of_open_complaints    2937\n",
      "policy_type                  2937\n",
      "vehicle_class                2937\n",
      "total_claim_amount           2937\n",
      "dtype: int64\n",
      "Null values in each column after handling:\n",
      " customer                     0\n",
      "state                        0\n",
      "gender                       0\n",
      "education                    0\n",
      "customer_lifetime_value      0\n",
      "income                       0\n",
      "monthly_premium_auto         0\n",
      "number_of_open_complaints    0\n",
      "policy_type                  0\n",
      "vehicle_class                0\n",
      "total_claim_amount           0\n",
      "dtype: int64\n",
      "  customer       state gender             education  customer_lifetime_value  \\\n",
      "0  RB50392  Washington      F                Master                     7936   \n",
      "1  QZ44356     Arizona      F              Bachelor                     6979   \n",
      "2  AI49188      Nevada      F              Bachelor                    12887   \n",
      "3  WW63253  California      M              Bachelor                     7645   \n",
      "4  GA49547  Washington      M  High School or Below                     5363   \n",
      "\n",
      "   income  monthly_premium_auto  number_of_open_complaints     policy_type  \\\n",
      "0       0                  1000                          0   Personal Auto   \n",
      "1       0                    94                          0   Personal Auto   \n",
      "2   48767                   108                          0   Personal Auto   \n",
      "3       0                   106                          0  Corporate Auto   \n",
      "4   36357                    68                          0   Personal Auto   \n",
      "\n",
      "   vehicle_class  total_claim_amount  \n",
      "0  Four-Door Car                   2  \n",
      "1  Four-Door Car                1131  \n",
      "2   Two-Door Car                 566  \n",
      "3            SUV                 529  \n",
      "4  Four-Door Car                  17  \n",
      "customer                     object\n",
      "state                        object\n",
      "gender                       object\n",
      "education                    object\n",
      "customer_lifetime_value       int64\n",
      "income                        int64\n",
      "monthly_premium_auto          int64\n",
      "number_of_open_complaints     int64\n",
      "policy_type                  object\n",
      "vehicle_class                object\n",
      "total_claim_amount            int64\n",
      "dtype: object\n"
     ]
    }
   ],
   "source": [
    "# Identify columns with null values\n",
    "null_counts = df.isnull().sum()\n",
    "print(\"Null values in each column:\\n\", null_counts)\n",
    "\n",
    "# Fill null values with column mean for numerical variables and mode for categorical variables\n",
    "for column in df.columns:\n",
    "    if df[column].dtype == 'object':\n",
    "        df[column] = df[column].fillna(df[column].mode()[0])\n",
    "    else:\n",
    "        df[column] = df[column].fillna(df[column].mean())\n",
    "\n",
    "# Verify that null values have been handled\n",
    "null_counts_after = df.isnull().sum()\n",
    "print(\"Null values in each column after handling:\\n\", null_counts_after)\n",
    "\n",
    "# Convert all numeric variables to integers\n",
    "numeric_columns = df.select_dtypes(include=['float64']).columns\n",
    "df[numeric_columns] = df[numeric_columns].astype('int')\n",
    "\n",
    "# Verify the changes\n",
    "print(df.head())\n",
    "print(df.dtypes)"
   ]
  },
  {
   "cell_type": "markdown",
   "id": "98416351-e999-4156-9834-9b00a311adfa",
   "metadata": {
    "id": "98416351-e999-4156-9834-9b00a311adfa"
   },
   "source": [
    "## Exercise 5: Dealing with duplicates"
   ]
  },
  {
   "cell_type": "markdown",
   "id": "ea0816a7-a18e-4d4c-b667-a8452a800bd1",
   "metadata": {
    "id": "ea0816a7-a18e-4d4c-b667-a8452a800bd1"
   },
   "source": [
    "Use the `.duplicated()` method to identify any duplicate rows in the dataframe.\n",
    "\n",
    "Decide on a strategy for handling the duplicates. Options include:\n",
    "- Dropping all duplicate rows\n",
    "- Keeping only the first occurrence of each duplicated row\n",
    "- Keeping only the last occurrence of each duplicated row\n",
    "- Dropping duplicates based on a subset of columns\n",
    "- Dropping duplicates based on a specific column\n",
    "\n",
    "Implement your chosen strategy using the `drop_duplicates()` function.\n",
    "\n",
    "Verify that your strategy has successfully handled the duplicates by checking for duplicates again using `.duplicated()`.\n",
    "\n",
    "Remember to document your process and explain your reasoning for choosing a particular strategy for handling duplicates.\n",
    "\n",
    "Save the cleaned dataset to a new CSV file.\n",
    "\n",
    "*Hint*: *after dropping duplicates, reset the index to ensure consistency*."
   ]
  },
  {
   "cell_type": "code",
   "execution_count": 5,
   "id": "1929362c-47ed-47cb-baca-358b78d401a0",
   "metadata": {
    "id": "1929362c-47ed-47cb-baca-358b78d401a0"
   },
   "outputs": [
    {
     "name": "stdout",
     "output_type": "stream",
     "text": [
      "Number of duplicate rows: 2936\n",
      "Number of duplicate rows after handling: 0\n",
      "  customer       state gender             education  customer_lifetime_value  \\\n",
      "0  RB50392  Washington      F                Master                     7936   \n",
      "1  QZ44356     Arizona      F              Bachelor                     6979   \n",
      "2  AI49188      Nevada      F              Bachelor                    12887   \n",
      "3  WW63253  California      M              Bachelor                     7645   \n",
      "4  GA49547  Washington      M  High School or Below                     5363   \n",
      "\n",
      "   income  monthly_premium_auto  number_of_open_complaints     policy_type  \\\n",
      "0       0                  1000                          0   Personal Auto   \n",
      "1       0                    94                          0   Personal Auto   \n",
      "2   48767                   108                          0   Personal Auto   \n",
      "3       0                   106                          0  Corporate Auto   \n",
      "4   36357                    68                          0   Personal Auto   \n",
      "\n",
      "   vehicle_class  total_claim_amount  \n",
      "0  Four-Door Car                   2  \n",
      "1  Four-Door Car                1131  \n",
      "2   Two-Door Car                 566  \n",
      "3            SUV                 529  \n",
      "4  Four-Door Car                  17  \n",
      "customer                     object\n",
      "state                        object\n",
      "gender                       object\n",
      "education                    object\n",
      "customer_lifetime_value       int64\n",
      "income                        int64\n",
      "monthly_premium_auto          int64\n",
      "number_of_open_complaints     int64\n",
      "policy_type                  object\n",
      "vehicle_class                object\n",
      "total_claim_amount            int64\n",
      "dtype: object\n"
     ]
    }
   ],
   "source": [
    "# Identify duplicate rows\n",
    "duplicates = df.duplicated()\n",
    "print(\"Number of duplicate rows:\", duplicates.sum())\n",
    "\n",
    "# Drop all duplicate rows\n",
    "df = df.drop_duplicates()\n",
    "\n",
    "# Reset the index\n",
    "df = df.reset_index(drop=True)\n",
    "\n",
    "# Verify that duplicates have been handled\n",
    "duplicates_after = df.duplicated()\n",
    "print(\"Number of duplicate rows after handling:\", duplicates_after.sum())\n",
    "\n",
    "# Save the cleaned dataset to a new CSV file\n",
    "df.to_csv('cleaned_data.csv', index=False)\n",
    "\n",
    "# Verify the changes\n",
    "print(df.head())\n",
    "print(df.dtypes)"
   ]
  },
  {
   "cell_type": "markdown",
   "id": "60840701-4783-40e2-b4d8-55303f9100c9",
   "metadata": {
    "id": "60840701-4783-40e2-b4d8-55303f9100c9"
   },
   "source": [
    "# Bonus: Challenge 2: creating functions on a separate `py` file"
   ]
  },
  {
   "cell_type": "markdown",
   "id": "9d1adb3a-17cf-4899-8041-da21a4337fb4",
   "metadata": {
    "id": "9d1adb3a-17cf-4899-8041-da21a4337fb4"
   },
   "source": [
    "Put all the data cleaning and formatting steps into functions, and create a main function that performs all the cleaning and formatting.\n",
    "\n",
    "Write these functions in separate .py file(s). By putting these steps into functions, we can make the code more modular and easier to maintain."
   ]
  },
  {
   "cell_type": "markdown",
   "id": "0e170dc2-b62c-417a-8248-e63ed18a70c4",
   "metadata": {
    "id": "0e170dc2-b62c-417a-8248-e63ed18a70c4"
   },
   "source": [
    "*Hint: autoreload module is a utility module in Python that allows you to automatically reload modules in the current session when changes are made to the source code. This can be useful in situations where you are actively developing code and want to see the effects of changes you make without having to constantly restart the Python interpreter or Jupyter Notebook kernel.*"
   ]
  },
  {
   "cell_type": "code",
   "execution_count": 10,
   "id": "a52c6dfc-cd11-4d01-bda4-f719fa33e9a4",
   "metadata": {
    "id": "a52c6dfc-cd11-4d01-bda4-f719fa33e9a4"
   },
   "outputs": [
    {
     "name": "stdout",
     "output_type": "stream",
     "text": [
      "The autoreload extension is already loaded. To reload it, use:\n",
      "  %reload_ext autoreload\n",
      "  customer       state   gender             education  \\\n",
      "0  RB50392  Washington  Unknown                Master   \n",
      "1  QZ44356     Arizona        F              Bachelor   \n",
      "2  AI49188      Nevada        F              Bachelor   \n",
      "3  WW63253  California        M              Bachelor   \n",
      "4  GA49547  Washington        M  High School or Below   \n",
      "\n",
      "   customer_lifetime_value   income  monthly_premium_auto  \\\n",
      "0              7936.902593      0.0                1000.0   \n",
      "1              6979.535900      0.0                  94.0   \n",
      "2             12887.431700  48767.0                 108.0   \n",
      "3              7645.861800      0.0                 106.0   \n",
      "4              5363.076500  36357.0                  68.0   \n",
      "\n",
      "   number_of_open_complaints     policy_type  vehicle_class  \\\n",
      "0                        0.0   Personal Auto  Four-Door Car   \n",
      "1                        0.0   Personal Auto  Four-Door Car   \n",
      "2                        0.0   Personal Auto   Two-Door Car   \n",
      "3                        0.0  Corporate Auto            SUV   \n",
      "4                        0.0   Personal Auto  Four-Door Car   \n",
      "\n",
      "   total_claim_amount  \n",
      "0            2.704934  \n",
      "1         1131.464935  \n",
      "2          566.472247  \n",
      "3          529.881344  \n",
      "4           17.269323  \n",
      "customer                      object\n",
      "state                         object\n",
      "gender                        object\n",
      "education                     object\n",
      "customer_lifetime_value      float64\n",
      "income                       float64\n",
      "monthly_premium_auto         float64\n",
      "number_of_open_complaints    float64\n",
      "policy_type                   object\n",
      "vehicle_class                 object\n",
      "total_claim_amount           float64\n",
      "dtype: object\n"
     ]
    }
   ],
   "source": [
    "%load_ext autoreload\n",
    "%autoreload 2\n",
    "\n",
    "import data_cleaning\n",
    "\n",
    "data_cleaning.main()"
   ]
  },
  {
   "cell_type": "markdown",
   "id": "80f846bb-3f5e-4ca2-96c0-900728daca5a",
   "metadata": {
    "id": "80f846bb-3f5e-4ca2-96c0-900728daca5a",
    "tags": []
   },
   "source": [
    "# Bonus: Challenge 3: Analyzing Clean and Formated Data"
   ]
  },
  {
   "cell_type": "markdown",
   "id": "9021630e-cc90-446c-b5bd-264d6c864207",
   "metadata": {
    "id": "9021630e-cc90-446c-b5bd-264d6c864207"
   },
   "source": [
    "You have been tasked with analyzing the data to identify potential areas for improving customer retention and profitability. Your goal is to identify customers with a high policy claim amount and a low customer lifetime value.\n",
    "\n",
    "In the Pandas Lab, we only looked at high policy claim amounts because we couldn't look into low customer lifetime values. If we had tried to work with that column, we wouldn't have been able to because customer lifetime value wasn't clean and in its proper format. So after cleaning and formatting the data, let's get some more interesting insights!\n",
    "\n",
    "Instructions:\n",
    "\n",
    "- Review the statistics again for total claim amount and customer lifetime value to gain an understanding of the data.\n",
    "- To identify potential areas for improving customer retention and profitability, we want to focus on customers with a high policy claim amount and a low customer lifetime value. Consider customers with a high policy claim amount to be those in the top 25% of the total claim amount, and clients with a low customer lifetime value to be those in the bottom 25% of the customer lifetime value. Create a pandas DataFrame object that contains information about customers with a policy claim amount greater than the 75th percentile and a customer lifetime value in the bottom 25th percentile.\n",
    "- Use DataFrame methods to calculate summary statistics about the high policy claim amount and low customer lifetime value data. To do so, select both columns of the dataframe simultaneously and pass it to the `.describe()` method. This will give you descriptive statistics, such as mean, median, standard deviation, minimum and maximum values for both columns at the same time, allowing you to compare and analyze their characteristics."
   ]
  },
  {
   "cell_type": "code",
   "execution_count": 11,
   "id": "211e82b5-461a-4d6f-8a23-4deccb84173c",
   "metadata": {
    "id": "211e82b5-461a-4d6f-8a23-4deccb84173c"
   },
   "outputs": [
    {
     "name": "stdout",
     "output_type": "stream",
     "text": [
      "Statistics for Total Claim Amount and Customer Lifetime Value:\n",
      "       total_claim_amount  customer_lifetime_value\n",
      "count         1072.000000              1072.000000\n",
      "mean           404.527985              7936.402985\n",
      "std            292.905011              6422.757351\n",
      "min              0.000000              2004.000000\n",
      "25%            201.750000              4053.500000\n",
      "50%            354.500000              5888.000000\n",
      "75%            532.000000              8937.500000\n",
      "max           2893.000000             58166.000000\n",
      "\n",
      "Summary Statistics for High Policy Claim Amount and Low Customer Lifetime Value:\n",
      "       total_claim_amount  customer_lifetime_value\n",
      "count           40.000000                40.000000\n",
      "mean           723.300000              3415.250000\n",
      "std            149.216449               569.199291\n",
      "min            537.000000              2287.000000\n",
      "25%            632.750000              3042.000000\n",
      "50%            685.000000              3659.500000\n",
      "75%            799.000000              3873.000000\n",
      "max           1185.000000              4023.000000\n",
      "\n",
      "Target Customers DataFrame:\n",
      "   customer       state gender education  customer_lifetime_value  income  \\\n",
      "17  OE15005  California      F   College                     3945   28855   \n",
      "23  TZ98966      Nevada      F  Bachelor                     2450       0   \n",
      "26  US89481  California      F  Bachelor                     3946       0   \n",
      "38  CM61827      Oregon      F  Bachelor                     3090       0   \n",
      "42  IL19217  California      F  Bachelor                     3939   60021   \n",
      "\n",
      "    monthly_premium_auto  number_of_open_complaints     policy_type  \\\n",
      "17                   101                          0   Personal Auto   \n",
      "23                    73                          3  Corporate Auto   \n",
      "26                   111                          0   Personal Auto   \n",
      "38                    90                          0   Personal Auto   \n",
      "42                    99                          0   Personal Auto   \n",
      "\n",
      "    vehicle_class  total_claim_amount  \n",
      "17            SUV                 647  \n",
      "23  Four-Door Car                 554  \n",
      "26  Four-Door Car                 799  \n",
      "38   Two-Door Car                 648  \n",
      "42  Four-Door Car                 882  \n"
     ]
    }
   ],
   "source": [
    "# Review statistics for total claim amount and customer lifetime value\n",
    "print(\"Statistics for Total Claim Amount and Customer Lifetime Value:\")\n",
    "print(df[['total_claim_amount', 'customer_lifetime_value']].describe())\n",
    "\n",
    "# Identify the 75th percentile for total claim amount and the 25th percentile for customer lifetime value\n",
    "high_claim_threshold = df['total_claim_amount'].quantile(0.75)\n",
    "low_clv_threshold = df['customer_lifetime_value'].quantile(0.25)\n",
    "\n",
    "# Create a DataFrame for customers with high policy claim amounts and low customer lifetime values\n",
    "target_customers = df[(df['total_claim_amount'] > high_claim_threshold) & (df['customer_lifetime_value'] < low_clv_threshold)]\n",
    "\n",
    "# Calculate summary statistics for the target customers\n",
    "print(\"\\nSummary Statistics for High Policy Claim Amount and Low Customer Lifetime Value:\")\n",
    "print(target_customers[['total_claim_amount', 'customer_lifetime_value']].describe())\n",
    "\n",
    "# Display the first few rows of the target customers DataFrame\n",
    "print(\"\\nTarget Customers DataFrame:\")\n",
    "print(target_customers.head())"
   ]
  },
  {
   "cell_type": "markdown",
   "id": "c52835cd",
   "metadata": {},
   "source": [
    "### Insights from the Analysis\n",
    "\n",
    "1. **Statistics for Total Claim Amount and Customer Lifetime Value:**\n",
    "   - The average total claim amount is approximately $404.53, with a standard deviation of $292.91.\n",
    "   - The average customer lifetime value is approximately $7936.40, with a standard deviation of $6422.76.\n",
    "   - The 75th percentile for total claim amount is $532.00, and the 25th percentile for customer lifetime value is $4053.50.\n",
    "\n",
    "2. **Summary Statistics for High Policy Claim Amount and Low Customer Lifetime Value:**\n",
    "   - The average total claim amount for the target customers is approximately $723.30, which is significantly higher than the overall average.\n",
    "   - The average customer lifetime value for the target customers is approximately $3415.25, which is significantly lower than the overall average.\n",
    "   - The standard deviation for total claim amount is $149.22, indicating some variability in the claim amounts among these customers.\n",
    "   - The standard deviation for customer lifetime value is $569.20, indicating less variability in the lifetime values among these customers.\n",
    "\n",
    "3. **Target Customers DataFrame:**\n",
    "   - The target customers have a high total claim amount (greater than $532.00) and a low customer lifetime value (less than $4053.50).\n",
    "   - These customers are spread across different states and have varying levels of education.\n",
    "   - The income levels of these customers vary, with some having zero income.\n",
    "   - The number of open complaints for these customers is generally low.\n",
    "   - The vehicle classes for these customers include SUVs, Four-Door Cars, and Two-Door Cars.\n",
    "\n",
    "### Potential Areas for Improving Customer Retention and Profitability\n",
    "\n",
    "1. **Focus on High Claim Customers with Low Lifetime Value:**\n",
    "   - These customers are costly due to their high claim amounts but are not very valuable in terms of lifetime value.\n",
    "   - Consider strategies to either reduce their claim amounts or increase their lifetime value.\n",
    "\n",
    "2. **Customer Education and Engagement:**\n",
    "   - Engage with these customers to understand their needs and provide better services that could increase their lifetime value.\n",
    "   - Offer educational resources or incentives to encourage safer driving habits, which could reduce claim amounts.\n",
    "\n",
    "3. **Targeted Marketing and Offers:**\n",
    "   - Develop targeted marketing campaigns to offer personalized products or services that could increase the lifetime value of these customers.\n",
    "   - Consider loyalty programs or discounts for customers who maintain low claim amounts over time.\n",
    "\n",
    "4. **Review and Adjust Policies:**\n",
    "   - Review the insurance policies of these customers to identify any patterns or common factors that contribute to high claim amounts.\n",
    "   - Adjust policies or premiums accordingly to better manage risk and profitability.\n",
    "\n",
    "By focusing on these areas, you can work towards improving customer retention and profitability, especially for customers who currently have high claim amounts and low lifetime values."
   ]
  }
 ],
 "metadata": {
  "colab": {
   "provenance": []
  },
  "kernelspec": {
   "display_name": "Python 3",
   "language": "python",
   "name": "python3"
  },
  "language_info": {
   "codemirror_mode": {
    "name": "ipython",
    "version": 3
   },
   "file_extension": ".py",
   "mimetype": "text/x-python",
   "name": "python",
   "nbconvert_exporter": "python",
   "pygments_lexer": "ipython3",
   "version": "3.12.6"
  }
 },
 "nbformat": 4,
 "nbformat_minor": 5
}
